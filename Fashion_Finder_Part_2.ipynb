{
  "nbformat": 4,
  "nbformat_minor": 0,
  "metadata": {
    "colab": {
      "provenance": [],
      "authorship_tag": "ABX9TyMpASEi5LnPlvIB7n5+kiT7",
      "include_colab_link": true
    },
    "kernelspec": {
      "name": "python3",
      "display_name": "Python 3"
    },
    "language_info": {
      "name": "python"
    }
  },
  "cells": [
    {
      "cell_type": "markdown",
      "metadata": {
        "id": "view-in-github",
        "colab_type": "text"
      },
      "source": [
        "<a href=\"https://colab.research.google.com/github/surabhitri/multimodal_recommender_system/blob/main/Fashion_Finder_Part_2.ipynb\" target=\"_parent\"><img src=\"https://colab.research.google.com/assets/colab-badge.svg\" alt=\"Open In Colab\"/></a>"
      ]
    },
    {
      "cell_type": "markdown",
      "source": [
        "# Fashion Finder App Tutorial - Part 2\n",
        "\n",
        "### Overview\n",
        "In this notebook, you will learn how to deploy the multimodal recommender application, designed in Part 1 of our tutorial, using Streamlit. We will be utilizing `pyngrok`, a Python wrapper for Ngrok, which enables secure tunnels to localhost, allowing you to expose your local server to the internet.\n",
        "\n",
        "### Before you get started\n",
        "Make sure you have the following accounts:\n",
        "\n",
        "\n",
        "*   **Weaviate Cloud account:** Sign up for a free 14-day trial account [here](https://weaviate.io/developers/wcs).\n",
        "*   **Vertex AI account:** Sign up [here](https://cloud.google.com/vertex-ai?hl=en) (ensure you have a billing account added).\n",
        "* **Google AI Studio account:** Sign up [here](https://ai.google.dev/aistudio)).\n",
        "\n",
        "\n",
        "And, the associated API keys:\n",
        "* **X-Google-Vertex-API-Key:** Upload your service account key as a JSON file from the Google Cloud Console to session storage by clicking the files tab in the left sidebar. [See instructions here](https://cloud.google.com/iam/docs/keys-create-delete).\n",
        "* **X-Google-Studio-API-Key:** Can be found in the Google AI Studio account dashboard.\n",
        "* **WCS_API_KEY:** Can be found in the Weaviate Cloud account dashboard.\n",
        "* **WCS_URL:** Can be found in the Weaviate Cloud account dashboard.\n",
        "* **NGROK_TOKEN:** Sign up [here](https://ngrok.com/) for a free token for a free token.\n",
        "\n",
        "**NOTE:** Please store your X-Google-Studio-API-Key, WCS_API_KEY, WCS_URL in a `.env` file and upload it to your session storage using the left side bar.\n",
        "\n",
        "**NOTE:** Please store your Ngrok Token in secrets using the left sidebar.\n",
        "\n",
        "### Files needed to deploy the application\n",
        "1. **mm_rag.py**: This file can be downloaded from the GitHub repository. Please upload this file to your session storage.\n",
        "2. **Logo.png:** This file can be downloaded from the GitHub repository. Please upload this file to your session storage.\n",
        "\n"
      ],
      "metadata": {
        "id": "-Tj4Z-JO9vb4"
      }
    },
    {
      "cell_type": "markdown",
      "source": [
        "# Install Initial Dependencies"
      ],
      "metadata": {
        "id": "2kiXk2pbFUSx"
      }
    },
    {
      "cell_type": "code",
      "execution_count": null,
      "metadata": {
        "collapsed": true,
        "id": "mNd01ANDYQhv"
      },
      "outputs": [],
      "source": [
        "!pip install pyngrok\n",
        "!pip install streamlit\n",
        "!pip install google-cloud-aiplatform\n",
        "!pip install google-generativeai\n",
        "!pip install python-dotenv\n",
        "!pip install -U weaviate-client"
      ]
    },
    {
      "cell_type": "code",
      "source": [
        "import os\n",
        "from threading import Thread\n",
        "from pyngrok import ngrok\n",
        "import streamlit as st\n",
        "from google.colab import userdata"
      ],
      "metadata": {
        "id": "j_ntvjGFn6Vs"
      },
      "execution_count": null,
      "outputs": []
    },
    {
      "cell_type": "markdown",
      "source": [
        "# Streamlit App"
      ],
      "metadata": {
        "id": "_XI_oRdawD4r"
      }
    },
    {
      "cell_type": "code",
      "source": [
        "# Add your ngrok token here\n",
        "ngrok.set_auth_token(userdata.get(\"NGROK_TOKEN\"))"
      ],
      "metadata": {
        "colab": {
          "base_uri": "https://localhost:8080/"
        },
        "id": "DTG1xRY33cba",
        "outputId": "314e517d-8e5f-4dc3-cb45-412b150c16d5"
      },
      "execution_count": 3,
      "outputs": [
        {
          "output_type": "stream",
          "name": "stdout",
          "text": []
        }
      ]
    },
    {
      "cell_type": "code",
      "source": [
        "def run_streamlit():\n",
        "    # Change the port if 8501 is already in use or if you prefer another port\n",
        "    os.system('streamlit run /content/mm_app.py --server.port 8501')"
      ],
      "metadata": {
        "id": "mWTJ0m5k3kEM"
      },
      "execution_count": 4,
      "outputs": []
    },
    {
      "cell_type": "code",
      "source": [
        "# Start a thread to run the Streamlit app\n",
        "thread = Thread(target=run_streamlit)\n",
        "thread.start()"
      ],
      "metadata": {
        "id": "ezjtWi5U3vk2"
      },
      "execution_count": 5,
      "outputs": []
    },
    {
      "cell_type": "code",
      "source": [
        "# Open a tunnel to the streamlit port 8501\n",
        "public_url = ngrok.connect(addr='8501', proto='http', bind_tls=True)\n",
        "print('Your Streamlit app is live at:', public_url)"
      ],
      "metadata": {
        "colab": {
          "base_uri": "https://localhost:8080/"
        },
        "id": "OsbYO_qT3xVD",
        "outputId": "8e6bef94-1340-4b87-853d-8876b4016fcf"
      },
      "execution_count": 6,
      "outputs": [
        {
          "output_type": "stream",
          "name": "stdout",
          "text": [
            "Your Streamlit app is live at: NgrokTunnel: \"https://26dd-34-145-224-82.ngrok-free.app\" -> \"http://localhost:8501\"\n"
          ]
        }
      ]
    },
    {
      "cell_type": "code",
      "source": [
        "# optional - kill the app\n",
        "# ngrok.kill()"
      ],
      "metadata": {
        "id": "BBZNUiFJ5Ly_"
      },
      "execution_count": 7,
      "outputs": []
    }
  ]
}